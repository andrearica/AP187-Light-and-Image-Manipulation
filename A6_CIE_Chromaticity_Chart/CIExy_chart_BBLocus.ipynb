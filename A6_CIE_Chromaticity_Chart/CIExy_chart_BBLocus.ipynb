{
 "cells": [
  {
   "cell_type": "code",
   "execution_count": null,
   "metadata": {
    "collapsed": true
   },
   "outputs": [],
   "source": [
    "import numpy as np\n",
    "import matplotlib.pyplot as plt\n",
    "import csv\n",
    "from scipy.interpolate import interp1d\n",
    "from math import floor\n",
    "\n",
    "%matplotlib inline"
   ]
  },
  {
   "cell_type": "code",
   "execution_count": null,
   "metadata": {
    "collapsed": true
   },
   "outputs": [],
   "source": [
    "nm = 1 * 10**(-9)\n",
    "\n",
    "h = 6.6262 * 10**(-34)\n",
    "c = 3 * 10**(8)\n",
    "k = 1.380649 * 10**(-23)\n",
    "\n",
    "def B(lam,T):\n",
    "    return 2*h*(c**2 )/((lam**5)*(np.e**((h*c)/(lam*k*T))-1))"
   ]
  },
  {
   "cell_type": "code",
   "execution_count": null,
   "metadata": {
    "collapsed": false
   },
   "outputs": [],
   "source": [
    "#Sensitivity Sony DXC 930 https://nae-lab.org/~rei/research/cs/zhao/database.html \n",
    "wale=[]\n",
    "X=[]\n",
    "Y=[]\n",
    "Z=[]\n",
    "with open('CIE.csv') as csv_file:\n",
    "    csv_reader = csv.reader(csv_file, delimiter=',')\n",
    "    line_count = 0\n",
    "    for row in csv_reader:\n",
    "        if line_count == 0:\n",
    "            print(f'Column names are {\", \".join(row)}')\n",
    "            line_count += 1\n",
    "        else:\n",
    "            wale.append(float(row[0]))\n",
    "            X.append(float(row[1]))\n",
    "            Y.append(float(row[2]))\n",
    "            Z.append(float(row[3]))\n",
    "            line_count += 1\n",
    "    print(f'Processed {line_count} lines.')\n",
    "    \n"
   ]
  },
  {
   "cell_type": "code",
   "execution_count": null,
   "metadata": {
    "collapsed": false
   },
   "outputs": [],
   "source": [
    "#Values for CIE\n",
    "X = np.array(X)\n",
    "Y = np.array(Y)\n",
    "Z = np.array(Z)\n",
    "x=np.zeros(len(wale)+1)\n",
    "y=np.zeros(len(wale)+1)\n",
    "z=np.zeros(len(wale)+1)\n",
    "for i in range(len(wale)):\n",
    "    I = X[i]+Y[i]+Z[i]\n",
    "    #if I==0:I=10000000\n",
    "    x[i]=(X[i]/I)\n",
    "    y[i]=(Y[i]/I)\n",
    "    z[i]=(Z[i]/I)\n",
    "\n",
    "\n",
    "x[i+1]=x[0]\n",
    "y[i+1]=y[0]\n",
    "z[i+1]=z[0]"
   ]
  },
  {
   "cell_type": "code",
   "execution_count": null,
   "metadata": {
    "collapsed": false
   },
   "outputs": [],
   "source": [
    "#Values for Blackbody Locus\n",
    "xb = np.zeros(9)\n",
    "yb = np.zeros(9)\n",
    "zb = np.zeros(9)\n",
    "wav = np.array(wale)*nm\n",
    "i=0\n",
    "\n",
    "Temps = [\"1K\",\"1.5K\",\"2K\",\"2.5K\",\"3K\",\"4K\",\"5K\",\"8K\",r\"$T_c(K) = \\inf$\"] #labels\n",
    "for T in (1000,1500,2000,2500,3000,4000,5000,8000,10000000000): #Blackbody at diffT\n",
    "    P = B(wav,T)\n",
    "\n",
    "    Xb = np.multiply(P,X[0:57])\n",
    "    Yb = np.multiply(P,Y[0:57])\n",
    "    Zb = np.multiply(P,Z[0:57])\n",
    "    \n",
    "    Xb = sum(Xb)\n",
    "    Yb = sum(Yb)\n",
    "    Zb = sum(Zb)\n",
    "    \n",
    "    \n",
    "    In = Xb+Yb+Zb\n",
    "    #if I==0:I=10000000\n",
    "    \n",
    "    xb[i]=Xb/In\n",
    "    yb[i]=Yb/In\n",
    "    zb[i]=Zb/In\n",
    "    plt.plot(wav,P)\n",
    "    i+=1"
   ]
  },
  {
   "cell_type": "code",
   "execution_count": null,
   "metadata": {
    "collapsed": false
   },
   "outputs": [],
   "source": [
    "plt.figure(figsize = (5,5))\n",
    "plt.plot(x,y)\n",
    "\n",
    "plt.plot(xb,yb,'.-',color='k')\n",
    "o=0\n",
    "for l,m in zip(xb,yb):\n",
    "    if o==8: \n",
    "        plt.annotate(Temps[o],xy=(l-0.15,m+0.02))\n",
    "        break\n",
    "    plt.annotate(Temps[o],xy=(l-0.02,m+0.02))\n",
    "    o+=1\n",
    "\n",
    "plt.title(\" CIE xy\")\n",
    "plt.xlabel(\"x\")\n",
    "plt.ylabel(\"y\")\n",
    "plt.xlim(0, 0.9)\n",
    "plt.ylim(0, 0.9)\n",
    "plt.grid(\"on\")\n",
    "plt.savefig('CIExy.png')"
   ]
  }
 ],
 "metadata": {
  "kernelspec": {
   "display_name": "Python 3",
   "language": "python",
   "name": "python3"
  },
  "language_info": {
   "codemirror_mode": {
    "name": "ipython",
    "version": 3
   },
   "file_extension": ".py",
   "mimetype": "text/x-python",
   "name": "python",
   "nbconvert_exporter": "python",
   "pygments_lexer": "ipython3",
   "version": "3.6.0"
  }
 },
 "nbformat": 4,
 "nbformat_minor": 2
}
