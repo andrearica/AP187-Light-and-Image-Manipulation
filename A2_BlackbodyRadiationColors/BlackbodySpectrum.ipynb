{
 "cells": [
  {
   "cell_type": "code",
   "execution_count": null,
   "metadata": {
    "collapsed": true
   },
   "outputs": [],
   "source": [
    "import numpy as np\n",
    "import matplotlib.pyplot as plt\n",
    "import math\n",
    "\n",
    "%matplotlib inline"
   ]
  },
  {
   "cell_type": "code",
   "execution_count": null,
   "metadata": {
    "collapsed": false
   },
   "outputs": [],
   "source": [
    "nm = 1 * 10**(-9)\n",
    "lam = np.linspace(350*nm,750*nm,1000)\n",
    "lamn = np.linspace(0,2000*nm,4000)\n",
    "T = 6500\n",
    "\n",
    "h = 6.6262 * 10**(-34)\n",
    "c = 3 * 10**(8)\n",
    "k = 1.380649 * 10**(-23)"
   ]
  },
  {
   "cell_type": "code",
   "execution_count": null,
   "metadata": {
    "collapsed": false
   },
   "outputs": [],
   "source": [
    "def B(lam,T):\n",
    "    return 2*h*(c**2 )/((lam**5)*(np.e**((h*c)/(lam*k*T))-1))"
   ]
  },
  {
   "cell_type": "code",
   "execution_count": null,
   "metadata": {
    "collapsed": true
   },
   "outputs": [],
   "source": [
    "def normal12(B):\n",
    "    return (B - min(B))/(max(B)-min(B))"
   ]
  },
  {
   "cell_type": "code",
   "execution_count": null,
   "metadata": {
    "collapsed": true
   },
   "outputs": [],
   "source": [
    "color = [ 350.,  351.,  352.,  353.,  354.,  355.,  356.,  357.,  358.,\n",
    "        359.,  360.,  361.,  362.,  363.,  364.,  365.,  366.,  367.,\n",
    "        368.,  369.,  370.,  371.,  372.,  373.,  374.,  375.,  376.,\n",
    "        377.,  378.,  379.,  380.,  381.,  382.,  383.,  384.,  385.,\n",
    "        386.,  387.,  388.,  389.,  390.,  391.,  392.,  393.,  394.,\n",
    "        395.,  396.,  397.,  398.,  399.,  400.,  401.,  402.,  403.,\n",
    "        404.,  405.,  406.,  407.,  408.,  409.,  410.,  411.,  412.,\n",
    "        413.,  414.,  415.,  416.,  417.,  418.,  419.,  420.,  421.,\n",
    "        422.,  423.,  424.,  425.,  426.,  427.,  428.,  429.,  430.,\n",
    "        431.,  432.,  433.,  434.,  435.,  436.,  437.,  438.,  439.,\n",
    "        440.,  441.,  442.,  443.,  444.,  445.,  446.,  447.,  448.,\n",
    "        449.,  450.,  451.,  452.,  453.,  454.,  455.,  456.,  457.,\n",
    "        458.,  459.,  460.,  461.,  462.,  463.,  464.,  465.,  466.,\n",
    "        467.,  468.,  469.,  470.,  471.,  472.,  473.,  474.,  475.,\n",
    "        476.,  477.,  478.,  479.,  480.,  481.,  482.,  483.,  484.,\n",
    "        485.,  486.,  487.,  488.,  489.,  490.,  491.,  492.,  493.,\n",
    "        494.,  495.,  496.,  497.,  498.,  499.,  500.,  501.,  502.,\n",
    "        503.,  504.,  505.,  506.,  507.,  508.,  509.,  510.,  511.,\n",
    "        512.,  513.,  514.,  515.,  516.,  517.,  518.,  519.,  520.,\n",
    "        521.,  522.,  523.,  524.,  525.,  526.,  527.,  528.,  529.,\n",
    "        530.,  531.,  532.,  533.,  534.,  535.,  536.,  537.,  538.,\n",
    "        539.,  540.,  541.,  542.,  543.,  544.,  545.,  546.,  547.,\n",
    "        548.,  549.,  550.,  551.,  552.,  553.,  554.,  555.,  556.,\n",
    "        557.,  558.,  559.,  560.,  561.,  562.,  563.,  564.,  565.,\n",
    "        566.,  567.,  568.,  569.,  570.,  571.,  572.,  573.,  574.,\n",
    "        575.,  576.,  577.,  578.,  579.,  580.,  581.,  582.,  583.,\n",
    "        584.,  585.,  586.,  587.,  588.,  589.,  590.,  591.,  592.,\n",
    "        593.,  594.,  595.,  596.,  597.,  598.,  599.,  600.,  601.,\n",
    "        602.,  603.,  604.,  605.,  606.,  607.,  608.,  609.,  610.,\n",
    "        611.,  612.,  613.,  614.,  615.,  616.,  617.,  618.,  619.,\n",
    "        620.,  621.,  622.,  623.,  624.,  625.,  626.,  627.,  628.,\n",
    "        629.,  630.,  631.,  632.,  633.,  634.,  635.,  636.,  637.,\n",
    "        638.,  639.,  640.,  641.,  642.,  643.,  644.,  645.,  646.,\n",
    "        647.,  648.,  649.,  650.,  651.,  652.,  653.,  654.,  655.,\n",
    "        656.,  657.,  658.,  659.,  660.,  661.,  662.,  663.,  664.,\n",
    "        665.,  666.,  667.,  668.,  669.,  670.,  671.,  672.,  673.,\n",
    "        674.,  675.,  676.,  677.,  678.,  679.,  680.,  681.,  682.,\n",
    "        683.,  684.,  685.,  686.,  687.,  688.,  689.,  690.,  691.,\n",
    "        692.,  693.,  694.,  695.,  696.,  697.,  698.,  699.,  700.,\n",
    "        701.,  702.,  703.,  704.,  705.,  706.,  707.,  708.,  709.,\n",
    "        710.,  711.,  712.,  713.,  714.,  715.,  716.,  717.,  718.,\n",
    "        719.,  720.,  721.,  722.,  723.,  724.,  725.,  726.,  727.,\n",
    "        728.,  729.,  730.,  731.,  732.,  733.,  734.,  735.,  736.,\n",
    "        737.,  738.,  739.,  740.,  741.,  742.,  743.,  744.,  745.,\n",
    "        746.,  747.,  748.,  749.,  750.]\n",
    "\n"
   ]
  },
  {
   "cell_type": "code",
   "execution_count": null,
   "metadata": {
    "collapsed": false
   },
   "outputs": [],
   "source": [
    "# Blackbody Spectrum Normalized\n",
    "fig = plt.figure()\n",
    "fig.subplots_adjust(hspace=0.05)\n",
    "\n",
    "for T in (6500,2500,5400,1000):\n",
    "    p = B(lam,T)\n",
    "    p = normal12(p)\n",
    "        \n",
    "    sub1 = fig.add_subplot(6,1,(1,4)) # instead of plt.subplot(2, 2, 1)\n",
    "    sub1.plot(lam,p,label = str(T)+'K')\n",
    "    sub1.legend()\n",
    "    sub1.set_xlabel(\"Wavelength (m)\")\n",
    "    sub1.set_ylabel(\"Blackbody Radiation (W/m^3)\")\n",
    "\n",
    "\n",
    "a = np.array([color,color,color,color,color,color,color,color,color,color])\n",
    "\n",
    "sub2 = fig.add_subplot(616)\n",
    "sub2.imshow(a, cmap=\"rainbow\")\n",
    "sub2.axis('off')\n",
    "\n",
    "\n",
    "fig.savefig('fin.png')\n"
   ]
  },
  {
   "cell_type": "code",
   "execution_count": null,
   "metadata": {
    "collapsed": false
   },
   "outputs": [],
   "source": [
    "# Blackbody spectrum for temp T\n",
    "for T in (4500,2500,3500,1000,5500,6500):\n",
    "    p = B(lamn,T)\n",
    "    plt.plot(lamn,p,label = str(T)+'K')\n",
    "\n",
    "plt.legend()\n",
    "\n",
    "plt.savefig('temp.png')\n",
    "plt.xlabel(\"Wavelength (nm)\")\n",
    "plt.ylabel(\"Blackbody Radiation (W/m^3)\")\n",
    "plt.show()"
   ]
  }
 ],
 "metadata": {
  "kernelspec": {
   "display_name": "Python 3",
   "language": "python",
   "name": "python3"
  },
  "language_info": {
   "codemirror_mode": {
    "name": "ipython",
    "version": 3
   },
   "file_extension": ".py",
   "mimetype": "text/x-python",
   "name": "python",
   "nbconvert_exporter": "python",
   "pygments_lexer": "ipython3",
   "version": "3.6.0"
  }
 },
 "nbformat": 4,
 "nbformat_minor": 2
}
