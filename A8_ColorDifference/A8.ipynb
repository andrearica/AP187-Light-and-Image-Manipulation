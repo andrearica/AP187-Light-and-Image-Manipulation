{
 "cells": [
  {
   "cell_type": "code",
   "execution_count": 1,
   "metadata": {
    "collapsed": true
   },
   "outputs": [],
   "source": [
    "import numpy as np\n",
    "import matplotlib.pyplot as plt\n",
    "from scipy.interpolate import interp1d\n",
    "import csv\n",
    "\n",
    "%matplotlib inline"
   ]
  },
  {
   "cell_type": "code",
   "execution_count": 2,
   "metadata": {
    "collapsed": true
   },
   "outputs": [],
   "source": [
    "def normal(B):\n",
    "    B = [x - min(B) for x in B]\n",
    "    \n",
    "    return ([x/(max(B)-min(B)) for x in B])"
   ]
  },
  {
   "cell_type": "code",
   "execution_count": 3,
   "metadata": {
    "collapsed": true
   },
   "outputs": [],
   "source": [
    "def f(t):\n",
    "    if t>(6/29)**3:\n",
    "        return t**(1/3)\n",
    "    else:\n",
    "        return (t*(1/3)*(29/6)**2)+(4/29)"
   ]
  },
  {
   "cell_type": "code",
   "execution_count": 4,
   "metadata": {
    "collapsed": true
   },
   "outputs": [],
   "source": [
    "def Lab(X,Y,Z,Xn,Yn,Zn):\n",
    "    t_x = X/Xn\n",
    "    t_y = Y/Yn\n",
    "    t_z = Z/Zn\n",
    "    \n",
    "    L = 116*f(t_y) - 16\n",
    "    a = 500*(f(t_x)-f(t_y))\n",
    "    b = 200*(f(t_y)-f(t_z))\n",
    "    \n",
    "    return L, a, b"
   ]
  },
  {
   "cell_type": "code",
   "execution_count": 14,
   "metadata": {
    "collapsed": true
   },
   "outputs": [],
   "source": [
    "def CH(a,b):\n",
    "    C = np.sqrt(a**2+b**2)\n",
    "    h = np.arctan(b/a)\n",
    "    return C,h"
   ]
  },
  {
   "cell_type": "code",
   "execution_count": 5,
   "metadata": {
    "collapsed": false
   },
   "outputs": [
    {
     "name": "stdout",
     "output_type": "stream",
     "text": [
      "Column names ï»¿fluoorescent2: Wavelength (nm),fluoorescent2: Intensity (rel),LED1: Intensity (rel),LED2: Intensity (rel),incandescent1: Intensity (rel),incandescent2: Intensity (rel),fluorescent1: Intensity (rel),,,,\n",
      "Processed 501 lines.\n"
     ]
    }
   ],
   "source": [
    "wl=[]\n",
    "LED=[]\n",
    "inc=[]\n",
    "with open('lightsources.csv') as csv_file:\n",
    "    csv_reader = csv.reader(csv_file, delimiter=',')\n",
    "    line_count = 0\n",
    "    for row in csv_reader:\n",
    "        if line_count == 0:\n",
    "            print(f'Column names {\",\".join(row)}')\n",
    "            line_count += 1\n",
    "        else:\n",
    "            wl.append(float(row[0]))\n",
    "            LED.append(float(row[3]))\n",
    "            inc.append(float(row[5]))\n",
    "            line_count += 1\n",
    "    print(f'Processed {line_count} lines.')\n",
    "    \n",
    "LED = normal(LED)\n",
    "inc = normal(inc)"
   ]
  },
  {
   "cell_type": "code",
   "execution_count": 6,
   "metadata": {
    "collapsed": false
   },
   "outputs": [
    {
     "name": "stdout",
     "output_type": "stream",
     "text": [
      "Column names ï»¿wavelength,1,2,3,4,5,6,7,8,9,10,11,12,13,14,15,16,17,18,19,20,21,22,23,24,,\n",
      "Processed 82 lines.\n"
     ]
    }
   ],
   "source": [
    "wlmcc=[]\n",
    "m=np.zeros([81,24])\n",
    "with open('mcc.csv') as csv_file:\n",
    "    csv_reader = csv.reader(csv_file, delimiter=',')\n",
    "    line_count = 0\n",
    "    for row in csv_reader:\n",
    "        if line_count == 0:\n",
    "            print(f'Column names {\",\".join(row)}')\n",
    "            line_count += 1\n",
    "        else:\n",
    "            wlmcc.append(float(row[0]))\n",
    "            for i in range(24):\n",
    "                m[line_count-1,i]=float(row[i])\n",
    "            line_count += 1\n",
    "    print(f'Processed {line_count} lines.')"
   ]
  },
  {
   "cell_type": "code",
   "execution_count": 7,
   "metadata": {
    "collapsed": false
   },
   "outputs": [
    {
     "name": "stdout",
     "output_type": "stream",
     "text": [
      "Column names ï»¿(nm),xÂ¯Î»,yÂ¯Î»,zÂ¯Î»\n",
      "Processed 58 lines.\n"
     ]
    }
   ],
   "source": [
    "wlCIE=[]\n",
    "x_=[]\n",
    "y_=[]\n",
    "z_=[]\n",
    "with open('CIE.csv') as csv_file:\n",
    "    csv_reader = csv.reader(csv_file, delimiter=',')\n",
    "    line_count = 0\n",
    "    for row in csv_reader:\n",
    "        if line_count == 0:\n",
    "            print(f'Column names {\",\".join(row)}')\n",
    "            line_count += 1\n",
    "        else:\n",
    "            wlCIE.append(float(row[0]))\n",
    "            x_.append(float(row[1]))\n",
    "            y_.append(float(row[2]))\n",
    "            z_.append(float(row[3]))\n",
    "            line_count += 1\n",
    "    print(f'Processed {line_count} lines.')"
   ]
  },
  {
   "cell_type": "code",
   "execution_count": 8,
   "metadata": {
    "collapsed": false
   },
   "outputs": [],
   "source": [
    "nx_ = interp1d(wlCIE, x_, kind='linear')\n",
    "nx_ = nx_(wl)\n",
    "\n",
    "ny_ = interp1d(wlCIE, y_, kind='linear')\n",
    "ny_ = ny_(wl)\n",
    "\n",
    "nz_ = interp1d(wlCIE, z_, kind='linear')\n",
    "nz_ = nz_(wl)\n",
    "\n",
    "#\n",
    "\n",
    "XnL = sum(np.multiply(LED,nx_))\n",
    "YnL = sum(np.multiply(LED,ny_))\n",
    "ZnL = sum(np.multiply(LED,nz_))\n",
    "\n",
    "XnI = sum(np.multiply(inc,nx_))\n",
    "YnI = sum(np.multiply(inc,ny_))\n",
    "ZnI = sum(np.multiply(inc,nz_))"
   ]
  },
  {
   "cell_type": "code",
   "execution_count": 9,
   "metadata": {
    "collapsed": false
   },
   "outputs": [],
   "source": [
    "nmcc = np.zeros([500,24])\n",
    "for i in range(24):\n",
    "    nm = interp1d(wlmcc, m[:,i], kind='linear')\n",
    "    nmcc[:,i] = nm(wl)\n",
    "\n",
    "\n",
    "patchII = np.zeros([500,24])    \n",
    "XI = np.zeros(24)    \n",
    "YI = np.zeros(24)    \n",
    "ZI = np.zeros(24)    \n",
    "\n",
    "patchIL = np.zeros([500,24])    \n",
    "XL = np.zeros(24)    \n",
    "YL = np.zeros(24)    \n",
    "ZL = np.zeros(24)    \n",
    "\n",
    "\n",
    "for i in range(24):\n",
    "    patchIL[:,i] = np.multiply(nmcc[:,i],LED)\n",
    "    patchII[:,i] = np.multiply(nmcc[:,i],inc)\n",
    "    \n",
    "    XL[i] = sum(np.multiply(patchIL[:,i],nx_))\n",
    "    YL[i] = sum(np.multiply(patchIL[:,i],ny_))\n",
    "    ZL[i] = sum(np.multiply(patchIL[:,i],nz_))\n",
    "    \n",
    "    XI[i] = sum(np.multiply(patchII[:,i],nx_))\n",
    "    YI[i] = sum(np.multiply(patchII[:,i],ny_))\n",
    "    ZI[i] = sum(np.multiply(patchII[:,i],nz_))"
   ]
  },
  {
   "cell_type": "code",
   "execution_count": 16,
   "metadata": {
    "collapsed": false
   },
   "outputs": [],
   "source": [
    "IL = np.zeros(24)  \n",
    "Ia = np.zeros(24)  \n",
    "Ib = np.zeros(24)  \n",
    "\n",
    "LL = np.zeros(24)  \n",
    "La = np.zeros(24)  \n",
    "Lb = np.zeros(24)  \n",
    "\n",
    "CI = np.zeros(24)  \n",
    "hI = np.zeros(24)  \n",
    "\n",
    "CL = np.zeros(24)  \n",
    "hL = np.zeros(24)  \n",
    "\n",
    "for i in range(24):\n",
    "    IL[i],Ia[i],Ib[i] = Lab(XI[i],YI[i],ZI[i],XnI,YnI,ZnI)\n",
    "    LL[i],La[i],Lb[i] = Lab(XL[i],YL[i],ZL[i],XnL,YnL,ZnL)\n",
    "\n",
    "    CI[i], hI[i] = CH(Ia[i],Ib[i])\n",
    "    CL[i], hL[i] = CH(La[i],Lb[i])"
   ]
  },
  {
   "cell_type": "code",
   "execution_count": 23,
   "metadata": {
    "collapsed": false
   },
   "outputs": [
    {
     "name": "stdout",
     "output_type": "stream",
     "text": [
      "5\n",
      "19\n",
      "20\n",
      "21\n",
      "22\n",
      "23\n"
     ]
    }
   ],
   "source": [
    "dECIE = np.zeros(24)\n",
    "for i in range(24):\n",
    "    dECIE[i] = np.sqrt(((LL[i]-IL[i])**2)+((Lb[i]-Ib[i])**2)+((La[i]-Ia[i])**2))\n",
    "    \n",
    "for i in range(24):\n",
    "    if dECIE[i]<2.3:\n",
    "        print(i)"
   ]
  },
  {
   "cell_type": "code",
   "execution_count": 24,
   "metadata": {
    "collapsed": false
   },
   "outputs": [
    {
     "name": "stdout",
     "output_type": "stream",
     "text": [
      "5\n",
      "20\n",
      "21\n",
      "22\n",
      "23\n"
     ]
    }
   ],
   "source": [
    "dECH = np.zeros(24)\n",
    "for i in range(24):\n",
    "    dECH[i] = np.sqrt(((LL[i]-IL[i])**2)+((CL[i]-CI[i])**2)+((hL[i]-hI[i])**2))\n",
    "    \n",
    "for i in range(24):\n",
    "    if dECH[i]<2.3:\n",
    "        print(i)"
   ]
  }
 ],
 "metadata": {
  "kernelspec": {
   "display_name": "Python 3",
   "language": "python",
   "name": "python3"
  },
  "language_info": {
   "codemirror_mode": {
    "name": "ipython",
    "version": 3
   },
   "file_extension": ".py",
   "mimetype": "text/x-python",
   "name": "python",
   "nbconvert_exporter": "python",
   "pygments_lexer": "ipython3",
   "version": "3.6.0"
  }
 },
 "nbformat": 4,
 "nbformat_minor": 2
}
